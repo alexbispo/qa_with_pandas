{
 "cells": [
  {
   "cell_type": "code",
   "execution_count": null,
   "id": "2615d210",
   "metadata": {},
   "outputs": [],
   "source": [
    "from llama_index.core.query_pipeline import (\n",
    "    QueryPipeline as QP,\n",
    "    Link,\n",
    "    InputComponent,\n",
    ")\n",
    "from llama_index.experimental.query_engine.pandas import (\n",
    "    PandasInstructionParser,\n",
    ")\n",
    "from llama_index.core import PromptTemplate\n",
    "from llama_index.llms.ollama import Ollama\n",
    "import pandas as pd\n",
    "import textwrap"
   ]
  },
  {
   "cell_type": "code",
   "execution_count": null,
   "id": "7856c438",
   "metadata": {},
   "outputs": [],
   "source": [
    "def formatar_texto(texto):\n",
    "  texto_formatado = textwrap.fill(texto, width=100)\n",
    "  return texto_formatado"
   ]
  },
  {
   "cell_type": "code",
   "execution_count": null,
   "id": "551bbe92",
   "metadata": {},
   "outputs": [],
   "source": [
    "df = pd.read_csv(\"vendas.csv\")"
   ]
  },
  {
   "cell_type": "code",
   "execution_count": null,
   "id": "2e358284",
   "metadata": {},
   "outputs": [],
   "source": [
    "df.head()"
   ]
  },
  {
   "cell_type": "code",
   "execution_count": null,
   "id": "a112df2d",
   "metadata": {},
   "outputs": [],
   "source": [
    "def descricao_colunas(df):\n",
    "  descricao = '\\n'.join([f\"`{col}`: {str(df[col].dtype)}\" for col in df.columns])\n",
    "  return 'Aqui estão os detalhes das colunas do DataFrame:\\n' + descricao\n"
   ]
  },
  {
   "cell_type": "code",
   "execution_count": null,
   "id": "adcd6644",
   "metadata": {},
   "outputs": [],
   "source": [
    "# llm = Ollama(\n",
    "#     model=\"llama3.2:3b\", \n",
    "#     request_timeout=120.0, \n",
    "#     context_window=10240, \n",
    "#     temperature=0.05,\n",
    "#     max_tokens=10240,\n",
    "#     top_k=5,\n",
    "# )\n",
    "\n",
    "# llm = Ollama(\n",
    "#     model=\"deepseek-r1:1.5b\", \n",
    "#     request_timeout=120.0, \n",
    "#     context_window=10240,\n",
    "#     max_tokens=10240,\n",
    "# )\n",
    "\n",
    "# llm = Ollama(\n",
    "#     model=\"gemma3:4b\", \n",
    "#     request_timeout=120.0, \n",
    "#     context_window=10240,\n",
    "#     max_tokens=10240,\n",
    "# )\n",
    "\n",
    "# llm = Ollama(\n",
    "#     model=\"codegemma:2b\", \n",
    "#     request_timeout=120.0, \n",
    "#     context_window=10240,\n",
    "#     max_tokens=10240,\n",
    "# )\n",
    "\n",
    "# llm = Ollama(\n",
    "#     model=\"phi\", \n",
    "#     request_timeout=120.0,\n",
    "# )\n",
    "# llm = Ollama(\n",
    "#     model=\"gemma3:1b\", \n",
    "#     request_timeout=120.0,\n",
    "# )\n",
    "\n",
    "llm = Ollama(\n",
    "    model=\"qwen2.5-coder:1.5b\", \n",
    "    request_timeout=120.0,\n",
    "    temperature=0.5,\n",
    "    top_k=5,\n",
    ")"
   ]
  },
  {
   "cell_type": "code",
   "execution_count": null,
   "id": "51838deb",
   "metadata": {},
   "outputs": [],
   "source": [
    "def pipeline_consulta(df, llm, descricao_colunas):\n",
    "\n",
    "    instruction_str = (\n",
    "        \"1. Converta a Consulta para um código Python executável usando a biblioteca Pandas.\\n\"\n",
    "        \"2. A linha de código final deve ser uma expressão Python que possa ser chamada com a função `eval()`.\\n\"\n",
    "        \"3. O código deve ser um código Python válido e representar uma solução para a consulta.\\n\"\n",
    "        \"4. IMPRIMA SOMENTE A EXPRESSÃO.\\n\"\n",
    "        \"5. NÃO coloque a EXPRESSÃO entre aspas.\\n\"\n",
    "        \"6. Dica: caso necessário lemebre-se que o Pandas permite que vocë faça `groupby` por mais de uma coluna do dataframe ao mesmo tempo.\\n\"\n",
    "    )\n",
    "\n",
    "    pandas_prompt_str = (\n",
    "        \"Você é uma Analista de Dados Sênior e está trabalhando com um dataframe Pandas em Python chamado `df`.\\n\"\n",
    "        \"O dataframe contém dados de vendas, incluindo as seguintes colunas:\\n\"\n",
    "        \"{colunas_detalhes}\\n\\n\"\n",
    "        \"Este é o resultado de `print(df.head())`:\\n\"\n",
    "        \"{df_str}\\n\\n\"\n",
    "        \"Siga as seguintes instruções:\\n\"\n",
    "        \"{instruction_str}\\n\"\n",
    "        \"Consulta: {query_str}\\n\\n\"\n",
    "        \"Expressão:\"\n",
    "    )\n",
    "    response_synthesis_prompt_str = (\n",
    "        \"Você é um Analista de dados Sênior, dado uma pergunta de entrada elabore uma resposta para a consulta a partir do resultado da saída do Pandas.\\n\"\n",
    "        \"Responda de forma natural, a resposta deve focar na consulta.\\n\"\n",
    "        \"Você NÃO deve inventar dados, caso a saída do Pandas seja um erro, peça desculpa solicite que a consulta seja realizada novamente.\\n\" \n",
    "        \"Você NÃO deve utilizar introduções como 'A resposta é:' ou algo semelhante.\\n\"\n",
    "        \"Consulta: {query_str}\\n\\n\"\n",
    "        \"Instruções do Pandas (opcional):\\n{pandas_instructions}\\n\\n\"\n",
    "        \"Saída do Pandas: {pandas_output}\\n\\n\"\n",
    "        \"Resposta:\"\n",
    "        \"Ao final, você deve informar de forma explicativa o resultado, e também o código usado para gerar a resposta, no formato: O código utilizado foi {pandas_instructions}\\n\"\n",
    "    )\n",
    "\n",
    "    pandas_prompt = PromptTemplate(pandas_prompt_str).partial_format(\n",
    "        instruction_str=instruction_str, df_str=df.head(5), colunas_detalhes=descricao_colunas\n",
    "    )\n",
    "    pandas_output_parser = PandasInstructionParser(df)\n",
    "    response_synthesis_prompt = PromptTemplate(response_synthesis_prompt_str)\n",
    "\n",
    "    qp = QP(\n",
    "    modules={\n",
    "        \"input\": InputComponent(),\n",
    "        \"pandas_prompt\": pandas_prompt,\n",
    "        \"llm1\": llm,\n",
    "        \"pandas_output_parser\": pandas_output_parser,\n",
    "        \"response_synthesis_prompt\": response_synthesis_prompt,\n",
    "        \"llm2\": llm,\n",
    "    },\n",
    "    verbose=True,\n",
    "    )\n",
    "\n",
    "    qp.add_chain([\"input\", \"pandas_prompt\", \"llm1\", \"pandas_output_parser\"])\n",
    "    qp.add_links(\n",
    "        [\n",
    "            Link(\"input\", \"response_synthesis_prompt\", dest_key=\"query_str\"),\n",
    "            Link(\n",
    "                \"llm1\", \"response_synthesis_prompt\", dest_key=\"pandas_instructions\"\n",
    "            ),\n",
    "            Link(\n",
    "                \"pandas_output_parser\",\n",
    "                \"response_synthesis_prompt\",\n",
    "                dest_key=\"pandas_output\",\n",
    "            ),\n",
    "        ]\n",
    "    )\n",
    "\n",
    "    qp.add_link(\"response_synthesis_prompt\", \"llm2\")\n",
    "\n",
    "    return qp"
   ]
  },
  {
   "cell_type": "code",
   "execution_count": null,
   "id": "739ff0f5",
   "metadata": {},
   "outputs": [],
   "source": [
    "qp = pipeline_consulta(df, llm, descricao_colunas(df))\n",
    "\n",
    "response = qp.run(\n",
    "    query_str=\"Em quais cidades temos filiais?\",\n",
    ")"
   ]
  },
  {
   "cell_type": "code",
   "execution_count": null,
   "id": "160dd521",
   "metadata": {},
   "outputs": [],
   "source": [
    "print(response.message.content)"
   ]
  },
  {
   "cell_type": "code",
   "execution_count": null,
   "id": "63ab7b99",
   "metadata": {},
   "outputs": [],
   "source": [
    "qp = pipeline_consulta(df, llm, descricao_colunas(df))\n",
    "\n",
    "response = qp.run(\n",
    "    query_str=\"Qual é o tipo de produto com maior quantidade na filial B?\",\n",
    ")"
   ]
  },
  {
   "cell_type": "code",
   "execution_count": null,
   "id": "2cbd4e2e",
   "metadata": {},
   "outputs": [],
   "source": [
    "print(response.message.content)"
   ]
  }
 ],
 "metadata": {
  "kernelspec": {
   "display_name": ".venv",
   "language": "python",
   "name": "python3"
  },
  "language_info": {
   "codemirror_mode": {
    "name": "ipython",
    "version": 3
   },
   "file_extension": ".py",
   "mimetype": "text/x-python",
   "name": "python",
   "nbconvert_exporter": "python",
   "pygments_lexer": "ipython3",
   "version": "3.13.2"
  }
 },
 "nbformat": 4,
 "nbformat_minor": 5
}
