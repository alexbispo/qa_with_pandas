{
 "cells": [
  {
   "cell_type": "code",
   "execution_count": null,
   "id": "2615d210",
   "metadata": {},
   "outputs": [],
   "source": [
    "from llama_index.core import Settings\n",
    "from llama_index.llms.ollama import Ollama\n",
    "from llama_index.experimental.query_engine.pandas.pandas_query_engine import PandasQueryEngine\n",
    "import pandas as pd\n",
    "import textwrap"
   ]
  },
  {
   "cell_type": "code",
   "execution_count": null,
   "id": "7856c438",
   "metadata": {},
   "outputs": [],
   "source": [
    "\n",
    "\n",
    "def formatar_texto(texto):\n",
    "  texto_formatado = textwrap.fill(texto, width=100)\n",
    "  return texto_formatado"
   ]
  },
  {
   "cell_type": "code",
   "execution_count": null,
   "id": "551bbe92",
   "metadata": {},
   "outputs": [],
   "source": [
    "df = pd.read_csv(\"vendas.csv\")"
   ]
  },
  {
   "cell_type": "code",
   "execution_count": null,
   "id": "2e358284",
   "metadata": {},
   "outputs": [],
   "source": [
    "df.head()"
   ]
  },
  {
   "cell_type": "code",
   "execution_count": null,
   "id": "adcd6644",
   "metadata": {},
   "outputs": [],
   "source": [
    "\n",
    "ollama_llm = Ollama(\n",
    "    model=\"llama3.2:3b\", \n",
    "    request_timeout=120.0, \n",
    "    context_window=10240, \n",
    "    temperature=0.05, # It scaling the logits before they are turned into probabilities (passed to the softmax function)\n",
    "    max_tokens=10240,\n",
    "    top_k=5, # It force the mode select the top k tokens with the highest probability\n",
    "    # top_p=0.99, # It instruct the model to select from the top p percent of tokens\n",
    "    # frequency_penalty=0.5, # It penalizes the model for using the same token multiple times in a single response\n",
    "    # presence_penalty=0.5, # It penalizes the model for using the same token multip\n",
    "    #repeat_penalty=0.5, # It penalizes the model for using the same token multiple times in a single response\n",
    ")\n",
    "\n",
    "Settings.llm = ollama_llm\n"
   ]
  },
  {
   "cell_type": "code",
   "execution_count": null,
   "id": "50bc815a",
   "metadata": {},
   "outputs": [],
   "source": [
    "query_engine = PandasQueryEngine(df=df, synthesize_response=True, verbose=True)"
   ]
  },
  {
   "cell_type": "code",
   "execution_count": null,
   "id": "1ee16e9a",
   "metadata": {},
   "outputs": [],
   "source": [
    "perguntas = [\n",
    "    {\n",
    "        \"pergunta\": \"Qual é a forma de pagamento mais utilizada pelos clientes?\", \n",
    "        \"resposta_esperada\": \"Carteira Digital\"\n",
    "    },\n",
    "    {\n",
    "        \"pergunta\": \"Qual é o tipo de produto com maior quantidade por filial?\", # The model answer better when use the words: em cada filial\n",
    "        \"resposta_esperada\": \"(A, Casa), (B, Esportes e Viagem), (C, Alimentos e Bebidas)\"\n",
    "    },\n",
    "    {\n",
    "        \"pergunta\": \"Qual é a forma de pagamento mais utilizada pelos clientes em cada filial?\", \n",
    "        \"resposta_esperada\": \"(A, Carteira Digital), (B, Carteira Digital), (C, Dinheiro)\"\n",
    "    },\n",
    "    {\n",
    "        \"pergunta\": \"Em quais cidades temos filiais?\", \n",
    "        \"resposta_esperada\": \"['Santo André' 'São Caetano' 'São Bernardo do Campo']\"\n",
    "    },\n",
    "    {\n",
    "        \"pergunta\": \"Qual é o preço unitário médio de cada tipo de produto?\",\n",
    "        \"resposta_esperada\": \"\"\"\n",
    "            (Alimentos e Bebidas, 56.008851), \n",
    "            (Casa, 55.316937), \n",
    "            (Eletrônicos, 53.551588), \n",
    "            (Esportes e Viagem, 56.993253),\n",
    "            (Moda, 57.153652),\n",
    "            (Saúde e Beleza 54.854474)\n",
    "        \"\"\"\n",
    "    },\n",
    "    {\n",
    "        \"pergunta\": \"Qual é a média de valor de compra por tipo de cliente?\",\n",
    "        \"resposta_esperada\": \"\"\"\n",
    "            (Membro 327.791305),\n",
    "            (Normal 318.122856)\n",
    "\n",
    "        \"\"\"\n",
    "    },\n",
    "    {\n",
    "        \"pergunta\": \"Qual é a filial com maior faturamento?\",\n",
    "        \"resposta_esperada\": \"C\"\n",
    "    },\n",
    "    {\n",
    "        \"pergunta\": \"Qual é a avaliação média por filial?\",\n",
    "        \"resposta_esperada\": \"\"\"\"\n",
    "            (A, 7.027059),\n",
    "            (B, 6.818072),\n",
    "            (C, 7.072866)\n",
    "        \"\"\"\n",
    "    },\n",
    "    {\n",
    "        \"pergunta\": \"Quais filiais têm uma avaliação média acima de 7?\",\n",
    "        \"resposta_esperada\": \"\"\"\n",
    "            df.groupby(\"filial\")[\"avaliacao\"].mean().reset_index().query(\"avaliacao > 7\")\n",
    "            (A, B)\n",
    "        \"\"\"\n",
    "    },\n",
    "    {\n",
    "        \"pergunta\": \"Crie um gráfico do tipo boxplot das avaliações por filial para comparar a distribuição desses dados\",\n",
    "        \"resposta_esperada\": \"\"\"\n",
    "            df.boxplot(column=\"avaliacao\", by=\"filial\")\n",
    "        \"\"\"\n",
    "    },\n",
    "    \n",
    "]"
   ]
  },
  {
   "cell_type": "code",
   "execution_count": null,
   "id": "dd1ebc25",
   "metadata": {},
   "outputs": [],
   "source": [
    "for pergunta in perguntas:\n",
    "    print(f'Pergunta: {pergunta[\"pergunta\"]}')\n",
    "    print(f'Resposta Esperada: {formatar_texto(pergunta[\"resposta_esperada\"])}')\n",
    "    resposta = query_engine.query(pergunta[\"pergunta\"]).response\n",
    "    print(f'Resposta: {formatar_texto(resposta)}')\n",
    "    print('---')\n",
    "    print('---')\n",
    "    print('---')"
   ]
  },
  {
   "cell_type": "code",
   "execution_count": null,
   "id": "65aa78ea",
   "metadata": {},
   "outputs": [],
   "source": [
    "# response = query_engine.query('Você pode plotar a distribuição das avaliações?')"
   ]
  },
  {
   "cell_type": "code",
   "execution_count": null,
   "id": "e9e845c9",
   "metadata": {},
   "outputs": [],
   "source": [
    "# df.avaliacao.plot(kind='hist')"
   ]
  },
  {
   "cell_type": "code",
   "execution_count": null,
   "id": "9f4685a1",
   "metadata": {},
   "outputs": [],
   "source": []
  }
 ],
 "metadata": {
  "kernelspec": {
   "display_name": ".venv",
   "language": "python",
   "name": "python3"
  },
  "language_info": {
   "codemirror_mode": {
    "name": "ipython",
    "version": 3
   },
   "file_extension": ".py",
   "mimetype": "text/x-python",
   "name": "python",
   "nbconvert_exporter": "python",
   "pygments_lexer": "ipython3",
   "version": "3.13.2"
  }
 },
 "nbformat": 4,
 "nbformat_minor": 5
}
